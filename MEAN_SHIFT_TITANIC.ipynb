{
  "nbformat": 4,
  "nbformat_minor": 0,
  "metadata": {
    "colab": {
      "name": "MEAN_SHIFT_TITANIC.ipynb",
      "version": "0.3.2",
      "provenance": [],
      "collapsed_sections": [],
      "include_colab_link": true
    },
    "kernelspec": {
      "name": "python3",
      "display_name": "Python 3"
    },
    "accelerator": "GPU"
  },
  "cells": [
    {
      "cell_type": "markdown",
      "metadata": {
        "id": "view-in-github",
        "colab_type": "text"
      },
      "source": [
        "<a href=\"https://colab.research.google.com/github/Kriban/MEAN_SHIFT_TITANIC/blob/master/MEAN_SHIFT_TITANIC.ipynb\" target=\"_parent\"><img src=\"https://colab.research.google.com/assets/colab-badge.svg\" alt=\"Open In Colab\"/></a>"
      ]
    },
    {
      "metadata": {
        "id": "vzHmmwdkYCsW",
        "colab_type": "code",
        "colab": {}
      },
      "cell_type": "code",
      "source": [
        "import numpy as np\n",
        "from sklearn.cluster import MeanShift, KMeans\n",
        "from sklearn import preprocessing\n",
        "import pandas as pd\n",
        "import matplotlib.pyplot as plt"
      ],
      "execution_count": 0,
      "outputs": []
    },
    {
      "metadata": {
        "id": "FwtyZabuYQsF",
        "colab_type": "code",
        "colab": {}
      },
      "cell_type": "code",
      "source": [
        "# will have to upload the data to colab files every time \n",
        "df = pd.read_excel('./titanic.xls')"
      ],
      "execution_count": 0,
      "outputs": []
    },
    {
      "metadata": {
        "id": "GhqUImJVYcyS",
        "colab_type": "code",
        "colab": {}
      },
      "cell_type": "code",
      "source": [
        "original_df = pd.DataFrame.copy(df)\n",
        "\n",
        "#Dropping uneccessary columns\n",
        "#Filling N/A with 0\n",
        "df.drop(['body', 'name'], 1, inplace=True)\n",
        "df.fillna(0, inplace=True)"
      ],
      "execution_count": 0,
      "outputs": []
    },
    {
      "metadata": {
        "id": "l0u93LCLYzCd",
        "colab_type": "code",
        "colab": {}
      },
      "cell_type": "code",
      "source": [
        "def handle_non_numerical_data(df):\n",
        "  \n",
        "  columns = df.columns.values\n",
        "  \n",
        "  for column in columns:\n",
        "    text_digit_vals = {}\n",
        "    def convert_to_int(val):\n",
        "      return text_digit_vals[val]\n",
        "    \n",
        "    if df[column].dtype != np.int64 and df[column].dtype != np.float64:\n",
        "      \n",
        "      column_contents = df[column].values.tolist()\n",
        "      \n",
        "      unique_elements = set(column_contents)\n",
        "      \n",
        "      x = 0\n",
        "      for unique in unique_elements:\n",
        "        if unique not in text_digit_vals:\n",
        "          text_digit_vals[unique] = x\n",
        "          x += 1\n",
        "          \n",
        "      df[column] = list(map(convert_to_int,df[column]))\n",
        "\n",
        "  return df\n"
      ],
      "execution_count": 0,
      "outputs": []
    },
    {
      "metadata": {
        "id": "1Q5VZFxeaAtw",
        "colab_type": "code",
        "colab": {}
      },
      "cell_type": "code",
      "source": [
        "df = handle_non_numerical_data(df)\n",
        "df.drop(['ticket','home.dest'],1,inplace=True)\n"
      ],
      "execution_count": 0,
      "outputs": []
    },
    {
      "metadata": {
        "id": "CTrYXBXjaXP7",
        "colab_type": "code",
        "outputId": "3b19a28d-7229-414d-f48a-e7b5e8009014",
        "colab": {
          "base_uri": "https://localhost:8080/",
          "height": 51
        }
      },
      "cell_type": "code",
      "source": [
        "X = np.array(df.drop(['survived'],1).astype(float))\n",
        "\n",
        "X = preprocessing.scale(X)\n",
        "\n",
        "y = np.array(df['survived'])\n",
        "\n",
        "clf = MeanShift()\n",
        "\n",
        "clf.fit(X)"
      ],
      "execution_count": 0,
      "outputs": [
        {
          "output_type": "execute_result",
          "data": {
            "text/plain": [
              "MeanShift(bandwidth=None, bin_seeding=False, cluster_all=True, min_bin_freq=1,\n",
              "     n_jobs=None, seeds=None)"
            ]
          },
          "metadata": {
            "tags": []
          },
          "execution_count": 6
        }
      ]
    },
    {
      "metadata": {
        "id": "W0HunuZ6aoqo",
        "colab_type": "code",
        "colab": {}
      },
      "cell_type": "code",
      "source": [
        "labels = clf.labels_\n",
        "cluster_cneters = clf.cluster_centers_"
      ],
      "execution_count": 0,
      "outputs": []
    },
    {
      "metadata": {
        "id": "XDRHMjsQcGEi",
        "colab_type": "code",
        "colab": {}
      },
      "cell_type": "code",
      "source": [
        "original_df['cluster_group']=np.nan\n"
      ],
      "execution_count": 0,
      "outputs": []
    },
    {
      "metadata": {
        "id": "nrWBQPB9cMFK",
        "colab_type": "code",
        "outputId": "caa46c33-bd7f-4545-98a4-7dbdac73ffac",
        "colab": {
          "base_uri": "https://localhost:8080/",
          "height": 122
        }
      },
      "cell_type": "code",
      "source": [
        "for i in range(len(X)):\n",
        "  original_df['cluster_group'].iloc[i] = labels[i]"
      ],
      "execution_count": 0,
      "outputs": [
        {
          "output_type": "stream",
          "text": [
            "/usr/local/lib/python3.6/dist-packages/pandas/core/indexing.py:194: SettingWithCopyWarning: \n",
            "A value is trying to be set on a copy of a slice from a DataFrame\n",
            "\n",
            "See the caveats in the documentation: http://pandas.pydata.org/pandas-docs/stable/indexing.html#indexing-view-versus-copy\n",
            "  self._setitem_with_indexer(indexer, value)\n"
          ],
          "name": "stderr"
        }
      ]
    },
    {
      "metadata": {
        "id": "K_B1LMkScaGe",
        "colab_type": "code",
        "outputId": "fa67f6fa-db08-4ad4-95bf-1227e39fd7ab",
        "colab": {
          "base_uri": "https://localhost:8080/",
          "height": 34
        }
      },
      "cell_type": "code",
      "source": [
        "n_clusters_ = len(np.unique(labels))\n",
        "survival_rates = {}\n",
        "for i in range(n_clusters_):\n",
        "  temp_df = original_df[ (original_df['cluster_group']==float(i))]\n",
        "  \n",
        "  survival_cluster = temp_df[ (temp_df['survived'] ==1) ]\n",
        "  \n",
        "  survival_rate = len(survival_cluster) / len(temp_df)\n",
        "  \n",
        "  survival_rates[i] = survival_rate\n",
        "  \n",
        "print(survival_rates)"
      ],
      "execution_count": 0,
      "outputs": [
        {
          "output_type": "stream",
          "text": [
            "{0: 0.37715179968701096, 1: 0.7894736842105263, 2: 0.1, 3: 1.0}\n"
          ],
          "name": "stdout"
        }
      ]
    },
    {
      "metadata": {
        "id": "fYO3uUUMd0Tr",
        "colab_type": "code",
        "outputId": "8b78c59b-ac0c-4ca1-c61c-13515a8c6eb8",
        "colab": {
          "base_uri": "https://localhost:8080/",
          "height": 360
        }
      },
      "cell_type": "code",
      "source": [
        "print(original_df[ (original_df['cluster_group']==1)].describe())"
      ],
      "execution_count": 0,
      "outputs": [
        {
          "output_type": "stream",
          "text": [
            "       pclass   survived        age      sibsp      parch        fare  body  \\\n",
            "count    19.0  19.000000  19.000000  19.000000  19.000000   19.000000   0.0   \n",
            "mean      1.0   0.789474  35.947368   1.210526   1.736842  297.859211   NaN   \n",
            "std       0.0   0.418854  16.300899   1.182227   1.194529   95.854826   NaN   \n",
            "min       1.0   0.000000  13.000000   0.000000   0.000000  227.525000   NaN   \n",
            "25%       1.0   1.000000  23.500000   0.000000   1.000000  262.375000   NaN   \n",
            "50%       1.0   1.000000  35.000000   1.000000   2.000000  262.375000   NaN   \n",
            "75%       1.0   1.000000  49.000000   2.000000   2.000000  263.000000   NaN   \n",
            "max       1.0   1.000000  64.000000   3.000000   4.000000  512.329200   NaN   \n",
            "\n",
            "       cluster_group  \n",
            "count           19.0  \n",
            "mean             1.0  \n",
            "std              0.0  \n",
            "min              1.0  \n",
            "25%              1.0  \n",
            "50%              1.0  \n",
            "75%              1.0  \n",
            "max              1.0  \n"
          ],
          "name": "stdout"
        }
      ]
    },
    {
      "metadata": {
        "id": "a0Fm6ySzd9ry",
        "colab_type": "code",
        "outputId": "77eff402-56bd-4d1c-ca48-88b8e661b67b",
        "colab": {
          "base_uri": "https://localhost:8080/",
          "height": 340
        }
      },
      "cell_type": "code",
      "source": [
        "print(original_df[ (original_df['cluster_group']==0)].describe())"
      ],
      "execution_count": 0,
      "outputs": [
        {
          "output_type": "stream",
          "text": [
            "            pclass     survived          age        sibsp        parch  \\\n",
            "count  1278.000000  1278.000000  1017.000000  1278.000000  1278.000000   \n",
            "mean      2.310642     0.377152    29.669289     0.486698     0.321596   \n",
            "std       0.829032     0.484863    14.393897     1.040027     0.670922   \n",
            "min       1.000000     0.000000     0.166700     0.000000     0.000000   \n",
            "25%       2.000000     0.000000    21.000000     0.000000     0.000000   \n",
            "50%       3.000000     0.000000    28.000000     0.000000     0.000000   \n",
            "75%       3.000000     1.000000    38.000000     1.000000     0.000000   \n",
            "max       3.000000     1.000000    80.000000     8.000000     4.000000   \n",
            "\n",
            "              fare        body  cluster_group  \n",
            "count  1277.000000  119.000000         1278.0  \n",
            "mean     28.730948  159.571429            0.0  \n",
            "std      36.441420   97.302914            0.0  \n",
            "min       0.000000    1.000000            0.0  \n",
            "25%       7.895800   71.000000            0.0  \n",
            "50%      13.862500  155.000000            0.0  \n",
            "75%      30.000000  255.500000            0.0  \n",
            "max     227.525000  328.000000            0.0  \n"
          ],
          "name": "stdout"
        }
      ]
    },
    {
      "metadata": {
        "id": "ocwgSxFpeW7i",
        "colab_type": "code",
        "outputId": "2c65c1a9-93f4-4469-8428-43e2bc47a51c",
        "colab": {
          "base_uri": "https://localhost:8080/",
          "height": 340
        }
      },
      "cell_type": "code",
      "source": [
        "print(original_df[ (original_df['cluster_group']==2)].describe())"
      ],
      "execution_count": 0,
      "outputs": [
        {
          "output_type": "stream",
          "text": [
            "       pclass   survived        age      sibsp      parch       fare  \\\n",
            "count    10.0  10.000000   8.000000  10.000000  10.000000  10.000000   \n",
            "mean      3.0   0.100000  39.875000   0.800000   6.000000  42.703750   \n",
            "std       0.0   0.316228   1.552648   0.421637   1.632993  15.590194   \n",
            "min       3.0   0.000000  38.000000   0.000000   5.000000  29.125000   \n",
            "25%       3.0   0.000000  39.000000   1.000000   5.000000  31.303125   \n",
            "50%       3.0   0.000000  39.500000   1.000000   5.000000  35.537500   \n",
            "75%       3.0   0.000000  40.250000   1.000000   6.000000  46.900000   \n",
            "max       3.0   1.000000  43.000000   1.000000   9.000000  69.550000   \n",
            "\n",
            "             body  cluster_group  \n",
            "count    2.000000           10.0  \n",
            "mean   234.500000            2.0  \n",
            "std    130.814755            0.0  \n",
            "min    142.000000            2.0  \n",
            "25%    188.250000            2.0  \n",
            "50%    234.500000            2.0  \n",
            "75%    280.750000            2.0  \n",
            "max    327.000000            2.0  \n"
          ],
          "name": "stdout"
        }
      ]
    },
    {
      "metadata": {
        "id": "5Q3TgTpRfUk1",
        "colab_type": "code",
        "colab": {}
      },
      "cell_type": "code",
      "source": [
        ""
      ],
      "execution_count": 0,
      "outputs": []
    }
  ]
}